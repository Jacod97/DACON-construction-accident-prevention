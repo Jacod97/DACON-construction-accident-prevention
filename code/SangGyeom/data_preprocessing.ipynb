{
 "cells": [
  {
   "cell_type": "markdown",
   "id": "e50eee59-b527-44e0-afa8-7e4ee190affb",
   "metadata": {},
   "source": [
    "# Import"
   ]
  },
  {
   "cell_type": "code",
   "execution_count": 1,
   "id": "493a074b-5e32-44c1-aee9-d378b1b37003",
   "metadata": {},
   "outputs": [],
   "source": [
    "import pandas as pd"
   ]
  },
  {
   "cell_type": "markdown",
   "id": "37f4223e-111b-49a8-a716-5f98caacf12f",
   "metadata": {},
   "source": [
    "# Data Load & Pre-processing"
   ]
  },
  {
   "cell_type": "code",
   "execution_count": 14,
   "id": "f871264a-ecd6-430d-ab1f-8edad746bd14",
   "metadata": {},
   "outputs": [
    {
     "data": {
      "text/plain": [
       "array(['건축 > 철근콘크리트공사', '토목 > 터널공사', '토목 > 하천공사', '건축 > 해체 및 철거공사',\n",
       "       '건축 > 타일 및 돌공사', '건축 > 철골공사', '건축 > 금속공사', '토목 > 해체 및 철거공사',\n",
       "       '기타 > 기타', '건축 > 수장공사', '건축 > 미장공사', '토목 > 가설공사', '건축 > 조적공사',\n",
       "       '토목 > 토공사', '건축 > 도장공사', '건축 > 건축 토공사', '토목 > 관공사 부대공사',\n",
       "       '건축 > 가설공사', '기계설비 > 기계설비공사', '건축 > 목공사', '토목 > 관공사', '토목 > 말뚝공사',\n",
       "       '건축 > 지붕 및 홈통공사', '토목 > 항만공사', '토목 > 교량공사', '기계설비 > 가설공사',\n",
       "       '건축 > 건축물 부대공사', '전기설비 > 전기설비공사', '건축 > 창호 및 유리공사',\n",
       "       '토목 > 철근콘크리트공사', '토목 > 도로 및 포장공사', '산업설비 > 가설공사', '토목 > 철도 및 궤도공사',\n",
       "       '건축 > 방수공사', '토목 > 강구조물공사', '건축 > 지정공사', '산업설비 > 산업설비공사',\n",
       "       '토목 > 지반개량공사', '토목 > 댐 및 제방공사', '토목 > 지반조사', '건축 > 조경공사',\n",
       "       '토목 > 프리캐스트 콘크리트공사', '전기설비 > 가설공사', '기계설비 > 해체 및 철거공사',\n",
       "       '전기설비 > 해체 및 철거공사', '건축 > 특수 건축물공사', nan, '통신설비 > 통신설비공사',\n",
       "       '건축 > 지반조사', '산업설비 > 해체 및 철거공사'], dtype=object)"
      ]
     },
     "execution_count": 14,
     "metadata": {},
     "output_type": "execute_result"
    }
   ],
   "source": [
    "train = pd.read_csv('../../data/train.csv', encoding = 'utf-8-sig')\n",
    "test = pd.read_csv('../../data/test.csv', encoding = 'utf-8-sig')\n",
    "\n",
    "train['공종'].unique()"
   ]
  },
  {
   "cell_type": "code",
   "execution_count": 17,
   "id": "4cf5fb42",
   "metadata": {},
   "outputs": [
    {
     "name": "stdout",
     "output_type": "stream",
     "text": [
      "True\n",
      "True\n",
      "True\n",
      "True\n",
      "True\n",
      "True\n",
      "True\n",
      "True\n",
      "True\n",
      "True\n",
      "True\n",
      "'공종' 컬럼의 남은 결측치 개수: 0\n"
     ]
    }
   ],
   "source": [
    "# '공종' 컬럼의 결측값을 채우기 위한 매핑 (\">\" 포함)\n",
    "construction_fill_values = {\n",
    "    \"TRAIN_02856\": \"건축 > 마감공사\",           # 건축 / 건축물 / 공동주택, 작업프로세스: 기타\n",
    "    \"TRAIN_04706\": \"건축 > 철근콘크리트공사\",     # 건축 / 건축물 / 운동시설, 사고객체: 건물\n",
    "    \"TRAIN_06235\": \"건축 > 마감공사\",           # 건축 / 건축물 / 공동주택, 작업프로세스: 청소작업\n",
    "    \"TRAIN_09122\": \"기타 > 기타공사\",           # 공사종류 정보 부족 → 기타공사\n",
    "    \"TRAIN_13429\": \"건축 > 설비공사\",           # 건축 / 건축물 / 공장, 사고객체: 기타\n",
    "    \"TRAIN_13708\": \"토목 > 토공사\",            # 건축 / 건축물 / 기타, 사고객체: 덤프트럭\n",
    "    \"TRAIN_13866\": \"조경 > 조경공사\",           # 조경 / 기타, 작업프로세스: 운반작업\n",
    "    \"TRAIN_14143\": \"토목 > 부지조성공사\",        # 토목 / 기타 / 부지조성, 장소: 부지조성\n",
    "    \"TRAIN_14715\": \"조경 > 조경공사\",           # 건축 / 건축물 / 관광 휴게시설, 작업프로세스: 이동\n",
    "    \"TRAIN_15805\": \"건축 > 마감공사\",           # 건축 / 건축물 / 공동주택, 작업프로세스: 운반작업\n",
    "    \"TRAIN_18108\": \"기타 > 기타공사\"            # 건축 / 건축물 / 기타\n",
    "}\n",
    "\n",
    "for k in construction_fill_values:\n",
    "    print(construction_fill_values[k] in train['공종'].unique())\n",
    "\n",
    "# 각 ID에 해당하는 '공종' 컬럼 값을 채우기\n",
    "for record_id, construction_type in construction_fill_values.items():\n",
    "    train.loc[train[\"ID\"] == record_id, \"공종\"] = construction_type\n",
    "\n",
    "# 결측치 확인 (0이 나오면 결측치 처리 완료)\n",
    "missing_values_after_filling = train[\"공종\"].isnull().sum()\n",
    "print(f\"'공종' 컬럼의 남은 결측치 개수: {missing_values_after_filling}\")\n",
    "\n"
   ]
  },
  {
   "cell_type": "code",
   "execution_count": 7,
   "id": "5dcc0921-e9a7-407a-a070-148abb06aca5",
   "metadata": {},
   "outputs": [],
   "source": [
    "# 데이터 전처리\n",
    "train['공사종류(대분류)'] = train['공사종류'].str.split(' / ').str[0]\n",
    "train['공사종류(중분류)'] = train['공사종류'].str.split(' / ').str[1]\n",
    "train['공종(대분류)'] = train['공종'].str.split(' > ').str[0]\n",
    "train['공종(중분류)'] = train['공종'].str.split(' > ').str[1]\n",
    "train['사고객체(대분류)'] = train['사고객체'].str.split(' > ').str[0]\n",
    "train['사고객체(중분류)'] = train['사고객체'].str.split(' > ').str[1]\n",
    "\n",
    "test['공사종류(대분류)'] = test['공사종류'].str.split(' / ').str[0]\n",
    "test['공사종류(중분류)'] = test['공사종류'].str.split(' / ').str[1]\n",
    "test['공종(대분류)'] = test['공종'].str.split(' > ').str[0]\n",
    "test['공종(중분류)'] = test['공종'].str.split(' > ').str[1]\n",
    "test['사고객체(대분류)'] = test['사고객체'].str.split(' > ').str[0]\n",
    "test['사고객체(중분류)'] = test['사고객체'].str.split(' > ').str[1]"
   ]
  },
  {
   "cell_type": "code",
   "execution_count": 8,
   "id": "90e51bca-0c93-4412-9634-9f86ea9a36ef",
   "metadata": {},
   "outputs": [],
   "source": [
    "# 훈련 데이터 통합 생성\n",
    "combined_training_data = train.apply(\n",
    "    lambda row: {\n",
    "        \"question\": (\n",
    "            f\"공사종류 대분류 '{row['공사종류(대분류)']}', 중분류 '{row['공사종류(중분류)']}' 공사 중 \"\n",
    "            f\"공종 대분류 '{row['공종(대분류)']}', 중분류 '{row['공종(중분류)']}' 작업에서 \"\n",
    "            f\"사고객체 '{row['사고객체(대분류)']}'(중분류: '{row['사고객체(중분류)']}')와 관련된 사고가 발생했습니다. \"\n",
    "            f\"작업 프로세스는 '{row['작업프로세스']}'이며, 사고 원인은 '{row['사고원인']}'입니다. \"\n",
    "            f\"재발 방지 대책 및 향후 조치 계획은 무엇인가요?\"\n",
    "        ),\n",
    "        \"answer\": row[\"재발방지대책 및 향후조치계획\"]\n",
    "    },\n",
    "    axis=1\n",
    ")\n",
    "\n",
    "# DataFrame으로 변환\n",
    "combined_training_data = pd.DataFrame(list(combined_training_data))"
   ]
  },
  {
   "cell_type": "code",
   "execution_count": 10,
   "id": "cbf53249-8aae-4308-a476-4200814da53d",
   "metadata": {
    "scrolled": true
   },
   "outputs": [
    {
     "data": {
      "text/html": [
       "<div>\n",
       "<style scoped>\n",
       "    .dataframe tbody tr th:only-of-type {\n",
       "        vertical-align: middle;\n",
       "    }\n",
       "\n",
       "    .dataframe tbody tr th {\n",
       "        vertical-align: top;\n",
       "    }\n",
       "\n",
       "    .dataframe thead th {\n",
       "        text-align: right;\n",
       "    }\n",
       "</style>\n",
       "<table border=\"1\" class=\"dataframe\">\n",
       "  <thead>\n",
       "    <tr style=\"text-align: right;\">\n",
       "      <th></th>\n",
       "      <th>question</th>\n",
       "    </tr>\n",
       "  </thead>\n",
       "  <tbody>\n",
       "    <tr>\n",
       "      <th>0</th>\n",
       "      <td>공사종류 대분류 '건축', 중분류 '건축물' 공사 중 공종 대분류 '건축', 중분류...</td>\n",
       "    </tr>\n",
       "    <tr>\n",
       "      <th>1</th>\n",
       "      <td>공사종류 대분류 '건축', 중분류 '건축물' 공사 중 공종 대분류 '건축', 중분류...</td>\n",
       "    </tr>\n",
       "    <tr>\n",
       "      <th>2</th>\n",
       "      <td>공사종류 대분류 '건축', 중분류 '건축물' 공사 중 공종 대분류 '건축', 중분류...</td>\n",
       "    </tr>\n",
       "    <tr>\n",
       "      <th>3</th>\n",
       "      <td>공사종류 대분류 '건축', 중분류 '건축물' 공사 중 공종 대분류 '건축', 중분류...</td>\n",
       "    </tr>\n",
       "    <tr>\n",
       "      <th>4</th>\n",
       "      <td>공사종류 대분류 '토목', 중분류 '교량' 공사 중 공종 대분류 '토목', 중분류 ...</td>\n",
       "    </tr>\n",
       "    <tr>\n",
       "      <th>...</th>\n",
       "      <td>...</td>\n",
       "    </tr>\n",
       "    <tr>\n",
       "      <th>959</th>\n",
       "      <td>공사종류 대분류 '건축', 중분류 '건축물' 공사 중 공종 대분류 '건축', 중분류...</td>\n",
       "    </tr>\n",
       "    <tr>\n",
       "      <th>960</th>\n",
       "      <td>공사종류 대분류 '토목', 중분류 '철도' 공사 중 공종 대분류 '토목', 중분류 ...</td>\n",
       "    </tr>\n",
       "    <tr>\n",
       "      <th>961</th>\n",
       "      <td>공사종류 대분류 '토목', 중분류 '상하수도' 공사 중 공종 대분류 '토목', 중분...</td>\n",
       "    </tr>\n",
       "    <tr>\n",
       "      <th>962</th>\n",
       "      <td>공사종류 대분류 '건축', 중분류 '건축물' 공사 중 공종 대분류 '건축', 중분류...</td>\n",
       "    </tr>\n",
       "    <tr>\n",
       "      <th>963</th>\n",
       "      <td>공사종류 대분류 '건축', 중분류 '건축물' 공사 중 공종 대분류 '건축', 중분류...</td>\n",
       "    </tr>\n",
       "  </tbody>\n",
       "</table>\n",
       "<p>964 rows × 1 columns</p>\n",
       "</div>"
      ],
      "text/plain": [
       "                                              question\n",
       "0    공사종류 대분류 '건축', 중분류 '건축물' 공사 중 공종 대분류 '건축', 중분류...\n",
       "1    공사종류 대분류 '건축', 중분류 '건축물' 공사 중 공종 대분류 '건축', 중분류...\n",
       "2    공사종류 대분류 '건축', 중분류 '건축물' 공사 중 공종 대분류 '건축', 중분류...\n",
       "3    공사종류 대분류 '건축', 중분류 '건축물' 공사 중 공종 대분류 '건축', 중분류...\n",
       "4    공사종류 대분류 '토목', 중분류 '교량' 공사 중 공종 대분류 '토목', 중분류 ...\n",
       "..                                                 ...\n",
       "959  공사종류 대분류 '건축', 중분류 '건축물' 공사 중 공종 대분류 '건축', 중분류...\n",
       "960  공사종류 대분류 '토목', 중분류 '철도' 공사 중 공종 대분류 '토목', 중분류 ...\n",
       "961  공사종류 대분류 '토목', 중분류 '상하수도' 공사 중 공종 대분류 '토목', 중분...\n",
       "962  공사종류 대분류 '건축', 중분류 '건축물' 공사 중 공종 대분류 '건축', 중분류...\n",
       "963  공사종류 대분류 '건축', 중분류 '건축물' 공사 중 공종 대분류 '건축', 중분류...\n",
       "\n",
       "[964 rows x 1 columns]"
      ]
     },
     "execution_count": 10,
     "metadata": {},
     "output_type": "execute_result"
    }
   ],
   "source": [
    "# 테스트 데이터 통합 생성\n",
    "combined_test_data = test.apply(\n",
    "    lambda row: {\n",
    "        \"question\": (\n",
    "            f\"공사종류 대분류 '{row['공사종류(대분류)']}', 중분류 '{row['공사종류(중분류)']}' 공사 중 \"\n",
    "            f\"공종 대분류 '{row['공종(대분류)']}', 중분류 '{row['공종(중분류)']}' 작업에서 \"\n",
    "            f\"사고객체 '{row['사고객체(대분류)']}'(중분류: '{row['사고객체(중분류)']}')와 관련된 사고가 발생했습니다. \"\n",
    "            f\"작업 프로세스는 '{row['작업프로세스']}'이며, 사고 원인은 '{row['사고원인']}'입니다. \"\n",
    "            f\"재발 방지 대책 및 향후 조치 계획은 무엇인가요?\"\n",
    "        )\n",
    "    },\n",
    "    axis=1\n",
    ")\n",
    "\n",
    "# DataFrame으로 변환\n",
    "combined_test_data = pd.DataFrame(list(combined_test_data))\n",
    "combined_test_data"
   ]
  }
 ],
 "metadata": {
  "kernelspec": {
   "display_name": "lang",
   "language": "python",
   "name": "python3"
  },
  "language_info": {
   "codemirror_mode": {
    "name": "ipython",
    "version": 3
   },
   "file_extension": ".py",
   "mimetype": "text/x-python",
   "name": "python",
   "nbconvert_exporter": "python",
   "pygments_lexer": "ipython3",
   "version": "3.13.2"
  }
 },
 "nbformat": 4,
 "nbformat_minor": 5
}
